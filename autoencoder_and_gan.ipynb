{
 "cells": [
  {
   "cell_type": "code",
   "execution_count": null,
   "metadata": {
    "id": "5RabupMk9-P_"
   },
   "outputs": [],
   "source": [
    "import tensorflow as tf\n",
    "from tensorflow import keras\n",
    "import os\n",
    "import numpy as np"
   ]
  },
  {
   "cell_type": "code",
   "execution_count": null,
   "metadata": {
    "colab": {
     "base_uri": "https://localhost:8080/"
    },
    "id": "5cNQU-df-Amk",
    "outputId": "ef4edf7d-48a6-4d8a-9983-dfd5f1edc79e"
   },
   "outputs": [],
   "source": [
    "image = tf.keras.utils.image_dataset_from_directory(\n",
    "    \"./drive/MyDrive/Image/\", labels=None, label_mode=None,\n",
    "    class_names=None, color_mode=\"grayscale\", batch_size=1, image_size=(256,\n",
    "    256), shuffle=True, seed=None, validation_split=None, subset=None,\n",
    "    interpolation='bilinear', follow_links=False,\n",
    "    crop_to_aspect_ratio=False)\n"
   ]
  },
  {
   "cell_type": "markdown",
   "metadata": {
    "id": "9qk-UQvKFe_Y"
   },
   "source": [
    "The convolutional autoencoder"
   ]
  },
  {
   "cell_type": "code",
   "execution_count": null,
   "metadata": {
    "id": "w-RUJdIjG3-B"
   },
   "outputs": [],
   "source": [
    "from tensorflow import keras\n"
   ]
  },
  {
   "cell_type": "code",
   "execution_count": null,
   "metadata": {
    "id": "a9LY0yfxCMb0"
   },
   "outputs": [],
   "source": [
    "def c_auto_encoder():\n",
    "  c_encoder = keras.models.Sequential([\n",
    "    keras.layers.Input(shape=[256,256,1]),\n",
    "    keras.layers.Conv2D(16,kernel_size=2,padding=\"same\",activation=\"selu\"),\n",
    "    keras.layers.MaxPool2D(pool_size=2),\n",
    "    keras.layers.Conv2D(8,kernel_size=2,padding=\"same\",activation=\"selu\"),\n",
    "    keras.layers.MaxPool2D(pool_size=2),\n",
    "    keras.layers.Conv2D(8,kernel_size=2,padding=\"same\",activation=\"selu\"),\n",
    "    keras.layers.MaxPool2D(pool_size=2)                               \n",
    "  ])\n",
    "\n",
    "  c_decoder = keras.models.Sequential([\n",
    "    #keras.layers.UpSampling2D(size=(2,2)),\n",
    "    keras.layers.Conv2D(8,kernel_size=2,padding=\"same\",activation=\"selu\",input_shape=[32,32,8]),\n",
    "    keras.layers.UpSampling2D(size = (2,2)),\n",
    "    keras.layers.Conv2D(8,kernel_size=2,strides=(2,2),padding=\"same\",activation=\"selu\"),\n",
    "    keras.layers.UpSampling2D(size = (2,2)),\n",
    "    keras.layers.Conv2D(16,kernel_size=2,strides=(2,2),padding=\"same\",activation=\"selu\"),\n",
    "    keras.layers.UpSampling2D(size = (2,2)),\n",
    "    keras.layers.UpSampling2D(size = (2,2)),\n",
    "    keras.layers.UpSampling2D(size = (2,2)),\n",
    "    keras.layers.UpSampling2D(size = (2,2)),\n",
    "    keras.layers.Conv2D(1,kernel_size=2,strides=2,padding=\"same\",activation=\"sigmoid\"),\n",
    "    \n",
    "    #keras.layers.Reshape([3840,2160,1],input_shape=[3840,2160,1])\n",
    "  ])\n",
    "\n",
    "  c_auto_encoder = keras.models.Sequential([c_encoder,c_decoder])\n",
    "  c_auto_encoder.compile(loss=keras.losses.BinaryCrossentropy(),optimizer = keras.optimizers.Adam(learning_rate=0.001)) \n",
    "  return c_auto_encoder"
   ]
  },
  {
   "cell_type": "code",
   "execution_count": null,
   "metadata": {
    "id": "Xmwt9XZqEVbL"
   },
   "outputs": [],
   "source": [
    "ae = c_auto_encoder()"
   ]
  },
  {
   "cell_type": "code",
   "execution_count": null,
   "metadata": {
    "colab": {
     "base_uri": "https://localhost:8080/",
     "height": 797
    },
    "id": "SI1Z0jElEfUQ",
    "outputId": "5e299bed-2be0-4752-c39b-1f26b0649ce6"
   },
   "outputs": [],
   "source": [
    "ae.fit(image,epochs=50)"
   ]
  },
  {
   "cell_type": "code",
   "execution_count": null,
   "metadata": {
    "colab": {
     "base_uri": "https://localhost:8080/"
    },
    "id": "KONkpkuuEkQr",
    "outputId": "30c87b9c-23f4-4bf2-f077-77a54bce64cc"
   },
   "outputs": [],
   "source": [
    "c_decoder = keras.models.Sequential([\n",
    "    #keras.layers.UpSampling2D(size=(2,2)),\n",
    "    keras.layers.Conv2D(8,kernel_size=2,padding=\"same\",activation=\"selu\",input_shape=[32,32,8]),\n",
    "    keras.layers.UpSampling2D(size = (2,2)),\n",
    "    keras.layers.Conv2D(8,kernel_size=2,strides=(2,2),padding=\"same\",activation=\"selu\"),\n",
    "    keras.layers.UpSampling2D(size = (2,2)),\n",
    "    keras.layers.Conv2D(16,kernel_size=2,strides=(2,2),padding=\"same\",activation=\"selu\"),\n",
    "    keras.layers.UpSampling2D(size = (2,2)),\n",
    "    keras.layers.UpSampling2D(size = (2,2)),\n",
    "    keras.layers.UpSampling2D(size = (2,2)),\n",
    "    keras.layers.UpSampling2D(size = (2,2)),\n",
    "    keras.layers.Conv2D(1,kernel_size=2,strides=2,padding=\"same\",activation=\"sigmoid\"),\n",
    "    \n",
    "    #keras.layers.Reshape([3840,2160,1],input_shape=[3840,21600,16])\n",
    "  ])\n",
    "c_decoder.summary()"
   ]
  },
  {
   "cell_type": "code",
   "execution_count": null,
   "metadata": {
    "colab": {
     "base_uri": "https://localhost:8080/"
    },
    "id": "yKSGietNL-FO",
    "outputId": "63a3d8bf-7299-445e-fbd9-a4356cf30338"
   },
   "outputs": [],
   "source": [
    "c_encoder = keras.models.Sequential([\n",
    "    keras.layers.Input(shape=[256,256,1]),\n",
    "    keras.layers.Conv2D(16,kernel_size=2,padding=\"same\",activation=\"selu\"),\n",
    "    keras.layers.MaxPool2D(pool_size=2),\n",
    "    keras.layers.Conv2D(8,kernel_size=2,padding=\"same\",activation=\"selu\"),\n",
    "    keras.layers.MaxPool2D(pool_size=2),\n",
    "    keras.layers.Conv2D(8,kernel_size=2,padding=\"same\",activation=\"selu\"),\n",
    "    keras.layers.MaxPool2D(pool_size=2)                               \n",
    "  ])\n",
    "c_encoder.summary()"
   ]
  },
  {
   "cell_type": "code",
   "execution_count": null,
   "metadata": {
    "colab": {
     "base_uri": "https://localhost:8080/"
    },
    "id": "uoVWaE6WGATO",
    "outputId": "585c723f-63d6-4b73-ab86-dab40950f1e2"
   },
   "outputs": [],
   "source": [
    "c_auto_encoder = keras.models.Sequential([c_encoder,c_decoder])\n",
    "c_auto_encoder.build(input_shape=[32,3840,2160,1])\n",
    "c_auto_encoder.summary()"
   ]
  },
  {
   "cell_type": "markdown",
   "metadata": {},
   "source": [
    "A simple GAN"
   ]
  },
  {
   "cell_type": "code",
   "execution_count": null,
   "metadata": {
    "colab": {
     "base_uri": "https://localhost:8080/"
    },
    "id": "xfPIblyiLrRF",
    "outputId": "49c8952c-4d3e-4de7-ce91-eedda5a63a57"
   },
   "outputs": [],
   "source": [
    "import numpy as np\n",
    "from tensorflow import keras\n",
    "generator = keras.models.Sequential([\n",
    "    keras.layers.Dense(100,activation=\"selu\",input_shape=[30]),\n",
    "    keras.layers.Dense(150,activation=\"selu\"),\n",
    "    keras.layers.Dense(256*256,activation=\"sigmoid\"),\n",
    "    keras.layers.Reshape([256,256,1])\n",
    "    ])\n",
    "generator.summary()"
   ]
  },
  {
   "cell_type": "code",
   "execution_count": null,
   "metadata": {
    "colab": {
     "base_uri": "https://localhost:8080/"
    },
    "id": "w4SKfYZ4au7l",
    "outputId": "d5cf5cbb-05ba-4b39-b62a-efe6a8dad628"
   },
   "outputs": [],
   "source": [
    "discriminator = keras.models.Sequential([\n",
    "    keras.layers.Flatten(input_shape=[256,256,1]),\n",
    "    keras.layers.Dense(100,activation=\"selu\"),\n",
    "    keras.layers.Dense(150,activation=\"selu\"),\n",
    "    keras.layers.Dense(1,activation=\"sigmoid\")\n",
    "])\n",
    "discriminator.summary()"
   ]
  },
  {
   "cell_type": "code",
   "execution_count": null,
   "metadata": {
    "id": "S74YAiRhbV1L"
   },
   "outputs": [],
   "source": [
    "gan = keras.models.Sequential(generator,discriminator)\n",
    "discriminator.compile(loss=\"binary_crossentropy\", optimizer=\"rmsprop\")\n",
    "discriminator.trainable = False\n",
    "gan.compile(loss=\"binary_crossentropy\", optimizer=\"rmsprop\")"
   ]
  },
  {
   "cell_type": "code",
   "execution_count": null,
   "metadata": {
    "colab": {
     "base_uri": "https://localhost:8080/",
     "height": 742
    },
    "id": "M7kAE0Wz6WZ5",
    "outputId": "03f40ac9-f96c-4df5-bcf9-103ea737fdd6"
   },
   "outputs": [],
   "source": [
    "def train(gan,image,batch_size,generator,discriminator,n_epochs = 50):\n",
    "  #generator,discriminator = gan.layers\n",
    "  for epoch in range(n_epochs):\n",
    "    for batch in image:\n",
    "      noise = np.random.normal(size=[batch_size,30])\n",
    "      generate =generator(noise)\n",
    "      fake_and_real = np.concatenate([generate,batch],axis = 0)\n",
    "      y1 = np.array([[0.]]*batch_size+[[1.]]*batch_size)\n",
    "\n",
    "      discriminator.trainable = True\n",
    "      discriminator.train_on_batch(fake_and_real, y1)\n",
    "      noise = np.random.normal(size=[batch_size,30])\n",
    "      y2 = np.array([[1.]]*batch_size)\n",
    "      discriminator.trainable = False\n",
    "      gan.train_on_batch(noise,y2)\n",
    "\n",
    "train(gan,image,1,generator,discriminator)"
   ]
  }
 ],
 "metadata": {
  "colab": {
   "name": "Untitled0.ipynb",
   "provenance": []
  },
  "kernelspec": {
   "display_name": "Python 3",
   "language": "python",
   "name": "python3"
  },
  "language_info": {
   "codemirror_mode": {
    "name": "ipython",
    "version": 3
   },
   "file_extension": ".py",
   "mimetype": "text/x-python",
   "name": "python",
   "nbconvert_exporter": "python",
   "pygments_lexer": "ipython3",
   "version": "3.8.5"
  }
 },
 "nbformat": 4,
 "nbformat_minor": 1
}
