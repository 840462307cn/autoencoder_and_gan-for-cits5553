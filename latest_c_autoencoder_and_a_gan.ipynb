{
 "cells": [
  {
   "cell_type": "markdown",
   "metadata": {},
   "source": [
    "## A convolutional autoencoder"
   ]
  },
  {
   "cell_type": "markdown",
   "metadata": {},
   "source": [
    "This notebook is edited based on the one used in my Google colab."
   ]
  },
  {
   "cell_type": "code",
   "execution_count": null,
   "metadata": {
    "id": "5RabupMk9-P_"
   },
   "outputs": [],
   "source": [
    "import tensorflow as tf\n",
    "from tensorflow import keras\n",
    "import os\n",
    "import numpy as np"
   ]
  },
  {
   "cell_type": "code",
   "execution_count": null,
   "metadata": {
    "colab": {
     "base_uri": "https://localhost:8080/"
    },
    "id": "5cNQU-df-Amk",
    "outputId": "2833f52a-4d47-4d80-a258-2527a9c10286"
   },
   "outputs": [],
   "source": [
    "image = tf.keras.utils.image_dataset_from_directory(\n",
    "    \"./drive/MyDrive/Image/\", labels=None, label_mode=None,\n",
    "    class_names=None, color_mode=\"grayscale\", batch_size=1, image_size=(256,\n",
    "    256), shuffle=True, seed=None, validation_split=None, subset=None,\n",
    "    interpolation='bilinear', follow_links=False,\n",
    "    crop_to_aspect_ratio=False)\n"
   ]
  },
  {
   "cell_type": "markdown",
   "metadata": {
    "id": "9qk-UQvKFe_Y"
   },
   "source": [
    "The convolutional autoencoder"
   ]
  },
  {
   "cell_type": "code",
   "execution_count": null,
   "metadata": {
    "id": "ipz-A3FB7BEY"
   },
   "outputs": [],
   "source": [
    "encoder = keras.models.Sequential()\n",
    "input1 = keras.layers.Input(shape=[256,256,1],name=\"input1\")\n",
    "encoder.add(input1)\n",
    "input2 = keras.layers.Conv2D(16,kernel_size=2,padding=\"same\",activation=\"selu\",strides=2,name=\"input2\")\n",
    "encoder.add(input2)\n",
    "\n",
    "input3 = keras.layers.Conv2D(8,kernel_size=2,padding=\"same\",activation=\"selu\",strides=2,name=\"input3\")\n",
    "encoder.add(input3)\n",
    "\n",
    "input4 = keras.layers.Conv2D(8,kernel_size=2,padding=\"same\",activation=\"selu\",strides=2,name=\"input4\")\n",
    "encoder.add(input4)\n",
    "\n",
    "\n",
    "decoder = keras.models.Sequential()  \n",
    "\n",
    "input5 = keras.layers.Conv2DTranspose(8,kernel_size=2,strides = 2,padding=\"same\",activation=\"selu\",input_shape=[32,32,8],name=\"input5\")\n",
    "decoder.add(input5)\n",
    "\n",
    "input6 = keras.layers.Conv2DTranspose(16,kernel_size=2,strides = 2,padding=\"same\",activation=\"selu\",name=\"input6\")\n",
    "decoder.add(input6)\n",
    "\n",
    "input7 = keras.layers.Conv2DTranspose(1,kernel_size=2,strides = 2, padding=\"same\",activation=\"selu\",name=\"input7\")\n",
    "decoder.add(input7)\n",
    "\n",
    "  \n",
    "auto = keras.models.Sequential([encoder, decoder])\n"
   ]
  },
  {
   "cell_type": "code",
   "execution_count": null,
   "metadata": {
    "colab": {
     "base_uri": "https://localhost:8080/",
     "height": 926
    },
    "id": "0WxjadOs8vbs",
    "outputId": "d637c492-8285-484a-9e4d-8235d285f1d8"
   },
   "outputs": [],
   "source": [
    "auto.compile(optimizer=\"adam\",loss=\"binary_crossentropy\")\n",
    "auto.fit(image,epochs=50)"
   ]
  },
  {
   "cell_type": "markdown",
   "metadata": {},
   "source": [
    "## A simple GAN"
   ]
  },
  {
   "cell_type": "code",
   "execution_count": null,
   "metadata": {
    "id": "BPqALNUBJLQn"
   },
   "outputs": [],
   "source": [
    "import numpy as np\n",
    "from tensorflow import keras\n",
    "generator = keras.models.Sequential([\n",
    "    keras.layers.Dense(100,activation=\"selu\",input_shape=[30]),\n",
    "    keras.layers.Dense(150,activation=\"selu\"),\n",
    "    keras.layers.Dense(256*256,activation=\"sigmoid\"),\n",
    "    keras.layers.Reshape([256,256,1])\n",
    "    ])\n",
    "generator.summary()"
   ]
  },
  {
   "cell_type": "code",
   "execution_count": null,
   "metadata": {},
   "outputs": [],
   "source": [
    "discriminator = keras.models.Sequential([\n",
    "    keras.layers.Flatten(input_shape=[256,256,1]),\n",
    "    keras.layers.Dense(100,activation=\"selu\"),\n",
    "    keras.layers.Dense(150,activation=\"selu\"),\n",
    "    keras.layers.Dense(1,activation=\"sigmoid\")\n",
    "])\n",
    "discriminator.summary()"
   ]
  },
  {
   "cell_type": "code",
   "execution_count": null,
   "metadata": {},
   "outputs": [],
   "source": [
    "gan = keras.models.Sequential(generator,discriminator)\n",
    "discriminator.compile(loss=\"binary_crossentropy\", optimizer=\"rmsprop\")\n",
    "discriminator.trainable = False\n",
    "gan.compile(loss=\"binary_crossentropy\", optimizer=\"rmsprop\")"
   ]
  },
  {
   "cell_type": "code",
   "execution_count": null,
   "metadata": {},
   "outputs": [],
   "source": [
    "def train(gan,image,batch_size,generator,discriminator,n_epochs = 50):\n",
    "  \n",
    "  for epoch in range(n_epochs):\n",
    "    for batch in image:\n",
    "      noise = np.random.normal(size=[batch_size,30])\n",
    "      generate =generator(noise)\n",
    "      fake_and_real = np.concatenate([generate,batch],axis = 0)\n",
    "      y1 = np.array([[0.]]*batch_size+[[1.]]*batch_size)\n",
    "\n",
    "      discriminator.trainable = True\n",
    "      discriminator.train_on_batch(fake_and_real, y1)\n",
    "      noise = np.random.normal(size=[batch_size,30])\n",
    "      y2 = np.array([[1.]]*batch_size)\n",
    "      discriminator.trainable = False\n",
    "      gan.train_on_batch(noise,y2)\n",
    "\n",
    "train(gan,image,1,generator,discriminator)"
   ]
  },
  {
   "cell_type": "code",
   "execution_count": null,
   "metadata": {
    "id": "Wqfz2hEY-Lmv"
   },
   "outputs": [],
   "source": []
  }
 ],
 "metadata": {
  "colab": {
   "name": "Untitled0.ipynb",
   "provenance": [],
   "toc_visible": true
  },
  "kernelspec": {
   "display_name": "Python 3",
   "language": "python",
   "name": "python3"
  },
  "language_info": {
   "codemirror_mode": {
    "name": "ipython",
    "version": 3
   },
   "file_extension": ".py",
   "mimetype": "text/x-python",
   "name": "python",
   "nbconvert_exporter": "python",
   "pygments_lexer": "ipython3",
   "version": "3.8.5"
  }
 },
 "nbformat": 4,
 "nbformat_minor": 1
}
